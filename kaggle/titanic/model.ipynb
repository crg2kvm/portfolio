{
 "cells": [
  {
   "cell_type": "code",
   "execution_count": 26,
   "metadata": {},
   "outputs": [],
   "source": [
    "import pandas as pd\n",
    "dat = pd.read_csv(r\"C:\\Users\\camda\\OneDrive\\Desktop\\Kaggle\\titanic\\train.csv\")\n",
    "dat2 = pd.read_csv(r'C:\\Users\\camda\\OneDrive\\Desktop\\Kaggle\\titanic\\test.csv')\n",
    "pd.set_option('display.max_rows', False)"
   ]
  },
  {
   "cell_type": "code",
   "execution_count": 27,
   "metadata": {},
   "outputs": [],
   "source": [
    "dat1 = pd.DataFrame(dat)\n",
    "split = len(dat1)\n",
    "Y = dat1['Survived']\n",
    "dat1 = dat1.drop(['Survived'],axis=1)\n",
    "df = pd.concat([dat1,pd.DataFrame(dat2)])\n",
    "\n",
    "df['Gender'] = (df['Sex']=='male').astype(int)\n",
    "df = df.drop(['Name','Parch','Sex','Ticket','Embarked','Cabin','Age'],axis=1).fillna(0)\n",
    "\n"
   ]
  },
  {
   "cell_type": "code",
   "execution_count": 28,
   "metadata": {},
   "outputs": [],
   "source": [
    "from sklearn import preprocessing\n",
    "from sklearn.linear_model import LogisticRegression\n",
    "import numpy as np\n",
    "x = df.drop(['PassengerId'], axis=1)\n",
    "x_train = x[:split]\n",
    "y_train = Y\n",
    "x_test = x[split:]\n",
    "\n"
   ]
  },
  {
   "cell_type": "code",
   "execution_count": 29,
   "metadata": {},
   "outputs": [],
   "source": [
    "scaler = preprocessing.StandardScaler().fit(x_train)\n",
    "x_scaled = scaler.transform(x_train)\n",
    "x_scaled_test = scaler.transform(x_test)"
   ]
  },
  {
   "cell_type": "code",
   "execution_count": 30,
   "metadata": {},
   "outputs": [],
   "source": [
    "model = LogisticRegression()\n",
    "model.fit(x_scaled,y_train)\n",
    "y_pred = model.predict_proba(x_scaled_test)\n",
    "low = 0.3\n",
    "upper = 0.7\n",
    "final_predictions = np.full(len(x_test), np.nan)\n",
    "uncertain_indices = []\n",
    "for i, prob in enumerate(y_pred[:, 1]):\n",
    "    if prob <= low:\n",
    "        final_predictions[i] = 0\n",
    "    elif prob >= upper:\n",
    "        final_predictions[i] = 1\n",
    "    else:\n",
    "        uncertain_indices.append(i)"
   ]
  },
  {
   "cell_type": "code",
   "execution_count": 31,
   "metadata": {},
   "outputs": [],
   "source": [
    "from sklearn.tree import DecisionTreeClassifier\n",
    "clf = DecisionTreeClassifier(random_state=0,criterion='gini')\n",
    "clf.fit(x_train,y_train)\n",
    "uncertain_x = x_test.iloc[uncertain_indices]\n",
    "y_pred2 = clf.predict(uncertain_x)\n",
    "for i, index in enumerate(uncertain_indices):\n",
    "    final_predictions[index] = y_pred2[i]"
   ]
  },
  {
   "cell_type": "code",
   "execution_count": 34,
   "metadata": {},
   "outputs": [],
   "source": [
    "result = pd.DataFrame([df['PassengerId'][split:]])\n",
    "result = pd.DataFrame(df['PassengerId'][split:])\n",
    "result['Survived'] = final_predictions.astype(int)\n",
    "result.to_csv('titanicresults.csv',index=False)\n"
   ]
  }
 ],
 "metadata": {
  "kernelspec": {
   "display_name": "Python 3",
   "language": "python",
   "name": "python3"
  },
  "language_info": {
   "codemirror_mode": {
    "name": "ipython",
    "version": 3
   },
   "file_extension": ".py",
   "mimetype": "text/x-python",
   "name": "python",
   "nbconvert_exporter": "python",
   "pygments_lexer": "ipython3",
   "version": "3.11.3"
  }
 },
 "nbformat": 4,
 "nbformat_minor": 2
}
