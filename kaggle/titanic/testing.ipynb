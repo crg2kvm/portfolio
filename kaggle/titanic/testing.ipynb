{
 "cells": [
  {
   "cell_type": "code",
   "execution_count": 7,
   "metadata": {},
   "outputs": [],
   "source": [
    "import pandas as pd\n",
    "dat = pd.read_csv(r\"C:\\Users\\camda\\OneDrive\\Desktop\\Kaggle\\titanic\\train.csv\")\n",
    "pd.set_option('display.max_rows', False)"
   ]
  },
  {
   "cell_type": "code",
   "execution_count": 14,
   "metadata": {},
   "outputs": [],
   "source": [
    "dat1 = pd.DataFrame(dat)\n",
    "split = int(len(dat1) * 0.75)\n",
    "Y = dat1['Survived']\n",
    "df = dat1.drop(['Survived'],axis=1)\n",
    "df['Gender'] = (df['Sex']=='male').astype(int)\n",
    "df = df.drop(['Name','Parch','Sex','Ticket','Embarked','Cabin','Age'],axis=1).fillna(0)\n",
    "\n"
   ]
  },
  {
   "cell_type": "code",
   "execution_count": 28,
   "metadata": {},
   "outputs": [],
   "source": [
    "from sklearn import preprocessing\n",
    "from sklearn.linear_model import LogisticRegression\n",
    "import numpy as np\n",
    "x = df.drop(['PassengerId'], axis=1)\n",
    "x_train = x[:split]\n",
    "y_train = Y[:split]\n",
    "x_test = x[split:]\n",
    "y_test = Y[split:]\n",
    "\n"
   ]
  },
  {
   "cell_type": "code",
   "execution_count": 29,
   "metadata": {},
   "outputs": [],
   "source": [
    "scaler = preprocessing.StandardScaler().fit(x_train)\n",
    "x_scaled = scaler.transform(x_train)\n",
    "x_scaled_test = scaler.transform(x_test)"
   ]
  },
  {
   "cell_type": "code",
   "execution_count": 31,
   "metadata": {},
   "outputs": [],
   "source": [
    "model = LogisticRegression()\n",
    "model.fit(x_scaled,y_train)\n",
    "y_pred = model.predict_proba(x_scaled_test)\n",
    "low = 0.3\n",
    "upper = 0.7\n",
    "final_predictions = np.full(len(x_test), np.nan)\n",
    "uncertain_indices = []\n",
    "for i, prob in enumerate(y_pred[:, 1]):\n",
    "    if prob <= low:\n",
    "        final_predictions[i] = 0\n",
    "    elif prob >= upper:\n",
    "        final_predictions[i] = 1\n",
    "    else:\n",
    "        uncertain_indices.append(i)"
   ]
  },
  {
   "cell_type": "code",
   "execution_count": 33,
   "metadata": {},
   "outputs": [],
   "source": [
    "\n",
    "from sklearn.tree import DecisionTreeClassifier\n",
    "clf = DecisionTreeClassifier(random_state=0,criterion='gini')\n",
    "x_uncertain = x_test.iloc[uncertain_indices]\n",
    "clf.fit(x_train,y_train)\n",
    "y_pred2 = clf.predict(x_uncertain)\n",
    "for i, index in enumerate(uncertain_indices):\n",
    "    final_predictions[index] = y_pred2[i]"
   ]
  },
  {
   "cell_type": "code",
   "execution_count": 34,
   "metadata": {},
   "outputs": [
    {
     "name": "stdout",
     "output_type": "stream",
     "text": [
      "Accuracy: 0.83\n"
     ]
    }
   ],
   "source": [
    "from sklearn.metrics import accuracy_score, confusion_matrix, classification_report\n",
    "accuracy = accuracy_score(y_test, final_predictions)\n",
    "print(f\"Accuracy: {accuracy:.2f}\")"
   ]
  },
  {
   "cell_type": "code",
   "execution_count": 20,
   "metadata": {},
   "outputs": [
    {
     "name": "stdout",
     "output_type": "stream",
     "text": [
      "Fitting 5 folds for each of 72 candidates, totalling 360 fits\n",
      "Best Parameters: {'criterion': 'gini', 'max_depth': 7, 'min_samples_leaf': 1, 'min_samples_split': 2}\n"
     ]
    }
   ],
   "source": [
    "from sklearn.model_selection import GridSearchCV\n",
    "\n",
    "param_grid = {\n",
    "    'max_depth': [3, 5, 7, 10],\n",
    "    'min_samples_split': [2, 5, 10],\n",
    "    'min_samples_leaf': [1, 2, 4],\n",
    "    'criterion': ['gini', 'entropy']\n",
    "}\n",
    "\n",
    "grid_search = GridSearchCV(estimator=clf, param_grid=param_grid, cv=5, n_jobs=-1, verbose=1)\n",
    "grid_search.fit(x_train, y_train)\n",
    "\n",
    "print(\"Best Parameters:\", grid_search.best_params_)"
   ]
  }
 ],
 "metadata": {
  "kernelspec": {
   "display_name": "Python 3",
   "language": "python",
   "name": "python3"
  },
  "language_info": {
   "codemirror_mode": {
    "name": "ipython",
    "version": 3
   },
   "file_extension": ".py",
   "mimetype": "text/x-python",
   "name": "python",
   "nbconvert_exporter": "python",
   "pygments_lexer": "ipython3",
   "version": "3.11.3"
  }
 },
 "nbformat": 4,
 "nbformat_minor": 2
}
